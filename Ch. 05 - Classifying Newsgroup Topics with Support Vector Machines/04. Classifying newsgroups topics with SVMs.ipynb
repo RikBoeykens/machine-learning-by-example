{
 "cells": [
  {
   "cell_type": "markdown",
   "metadata": {},
   "source": [
    "Load all categories"
   ]
  },
  {
   "cell_type": "code",
   "execution_count": 1,
   "metadata": {},
   "outputs": [],
   "source": [
    "from sklearn.datasets import fetch_20newsgroups\n",
    "categories = None\n",
    "data_train = fetch_20newsgroups(subset='train', categories=categories, random_state=42)\n",
    "data_test = fetch_20newsgroups(subset='test', categories=categories, random_state=42)"
   ]
  },
  {
   "cell_type": "markdown",
   "metadata": {},
   "source": [
    "Setup clean_text"
   ]
  },
  {
   "cell_type": "code",
   "execution_count": 2,
   "metadata": {},
   "outputs": [],
   "source": [
    "def is_letter_only(word):\n",
    "    for char in word:\n",
    "        if not char.isalpha():\n",
    "            return False\n",
    "    return True\n",
    "\n",
    "from nltk.corpus import names\n",
    "all_names = set(names.words())\n",
    "from nltk.stem import WordNetLemmatizer\n",
    "lemmatizer = WordNetLemmatizer()\n",
    "def clean_text(data):\n",
    "    data_cleaned = []\n",
    "    for doc in data:\n",
    "        doc = doc.lower()\n",
    "        doc_cleaned = ' '.join(lemmatizer.lemmatize(word) for word in doc.split() if is_letter_only(word) and word not in all_names)\n",
    "        data_cleaned.append(doc_cleaned)\n",
    "    return data_cleaned"
   ]
  },
  {
   "cell_type": "markdown",
   "metadata": {},
   "source": [
    "Prepare train and test set"
   ]
  },
  {
   "cell_type": "code",
   "execution_count": 3,
   "metadata": {},
   "outputs": [
    {
     "name": "stdout",
     "output_type": "stream",
     "text": [
      "11314 7532\n"
     ]
    }
   ],
   "source": [
    "from sklearn.feature_extraction.text import TfidfVectorizer\n",
    "\n",
    "cleaned_train = clean_text(data_train.data)\n",
    "label_train = data_train.target\n",
    "cleaned_test = clean_text(data_test.data)\n",
    "label_test = data_test.target\n",
    "print(len(label_train), len(label_test))\n",
    "tfidf_vectorizer = TfidfVectorizer(stop_words='english', max_features=None)\n",
    "term_docs_train = tfidf_vectorizer.fit_transform(cleaned_train)\n",
    "term_docs_test = tfidf_vectorizer.transform(cleaned_test)"
   ]
  },
  {
   "cell_type": "markdown",
   "metadata": {},
   "source": [
    "Setup svc with linear"
   ]
  },
  {
   "cell_type": "code",
   "execution_count": 4,
   "metadata": {},
   "outputs": [],
   "source": [
    "from sklearn.svm import SVC\n",
    "svc_libsvm = SVC(kernel='linear')"
   ]
  },
  {
   "cell_type": "markdown",
   "metadata": {},
   "source": [
    "Setup GridSearchCV.  \n",
    "GridSearchCV handles data splitting, fold generation, cross training and validation to find the best set of parameters  \n",
    "Since we use a linear kernel we only need to tune the parameter 'C'"
   ]
  },
  {
   "cell_type": "code",
   "execution_count": 15,
   "metadata": {},
   "outputs": [],
   "source": [
    "parameters = {'C': (0.1, 1, 10, 100)}\n",
    "from sklearn.model_selection import GridSearchCV\n",
    "grid_search = GridSearchCV(svc_libsvm, parameters, n_jobs=-1, cv=5, verbose=4)"
   ]
  },
  {
   "cell_type": "markdown",
   "metadata": {},
   "source": [
    "Run GridSearchCV with timing"
   ]
  },
  {
   "cell_type": "code",
   "execution_count": 16,
   "metadata": {},
   "outputs": [
    {
     "name": "stdout",
     "output_type": "stream",
     "text": [
      "Fitting 5 folds for each of 4 candidates, totalling 20 fits\n"
     ]
    },
    {
     "name": "stderr",
     "output_type": "stream",
     "text": [
      "[Parallel(n_jobs=-1)]: Using backend LokyBackend with 8 concurrent workers.\n",
      "[Parallel(n_jobs=-1)]: Done  11 out of  20 | elapsed:  3.0min remaining:  2.5min\n",
      "[Parallel(n_jobs=-1)]: Done  17 out of  20 | elapsed:  3.9min remaining:   41.2s\n",
      "[Parallel(n_jobs=-1)]: Done  20 out of  20 | elapsed:  4.2min finished\n"
     ]
    },
    {
     "name": "stdout",
     "output_type": "stream",
     "text": [
      "--- 311.833s seconds ---\n"
     ]
    }
   ],
   "source": [
    "import timeit\n",
    "start_time = timeit.default_timer()\n",
    "grid_search.fit(term_docs_train, label_train)\n",
    "print(\"--- %0.3fs seconds ---\" % (timeit.default_timer() - start_time))"
   ]
  },
  {
   "cell_type": "code",
   "execution_count": 17,
   "metadata": {},
   "outputs": [
    {
     "name": "stdout",
     "output_type": "stream",
     "text": [
      "{'C': 10}\n",
      "0.8898709563372812\n"
     ]
    }
   ],
   "source": [
    "print(grid_search.best_params_)\n",
    "print(grid_search.best_score_)"
   ]
  },
  {
   "cell_type": "markdown",
   "metadata": {},
   "source": [
    "Predict test set with best estimator"
   ]
  },
  {
   "cell_type": "code",
   "execution_count": 18,
   "metadata": {},
   "outputs": [
    {
     "name": "stdout",
     "output_type": "stream",
     "text": [
      "The accuracy of 20-class classification is 78.7%\n"
     ]
    }
   ],
   "source": [
    "svc_libsvm_best = grid_search.best_estimator_\n",
    "accuracy = svc_libsvm_best.score(term_docs_test, label_test)\n",
    "print('The accuracy of 20-class classification is {0:.1f}%'.format(accuracy*100))"
   ]
  },
  {
   "cell_type": "markdown",
   "metadata": {},
   "source": [
    "Use LinearSVC"
   ]
  },
  {
   "cell_type": "code",
   "execution_count": 14,
   "metadata": {},
   "outputs": [
    {
     "name": "stdout",
     "output_type": "stream",
     "text": [
      "Fitting 5 folds for each of 4 candidates, totalling 20 fits\n"
     ]
    },
    {
     "name": "stderr",
     "output_type": "stream",
     "text": [
      "[Parallel(n_jobs=-1)]: Using backend LokyBackend with 8 concurrent workers.\n",
      "[Parallel(n_jobs=-1)]: Done  11 out of  20 | elapsed:    8.0s remaining:    6.5s\n",
      "[Parallel(n_jobs=-1)]: Done  17 out of  20 | elapsed:   18.3s remaining:    3.1s\n",
      "[Parallel(n_jobs=-1)]: Done  20 out of  20 | elapsed:   19.8s finished\n"
     ]
    },
    {
     "name": "stdout",
     "output_type": "stream",
     "text": [
      "--- 20.842s seconds ---\n",
      "{'C': 1}\n",
      "0.8958812091214424\n",
      "The accuracy of 20-class classification is 80.0%\n"
     ]
    }
   ],
   "source": [
    "from sklearn.svm import LinearSVC\n",
    "svc_linear = LinearSVC()\n",
    "grid_search = GridSearchCV(svc_linear, parameters, n_jobs=-1, cv=5, verbose=4)\n",
    "\n",
    "start_time = timeit.default_timer()\n",
    "grid_search.fit(term_docs_train, label_train)\n",
    "print(\"--- %0.3fs seconds ---\" % (timeit.default_timer() - start_time))\n",
    "\n",
    "print(grid_search.best_params_)\n",
    "print(grid_search.best_score_)\n",
    "\n",
    "svc_linear_best = grid_search.best_estimator_\n",
    "accuracy = svc_linear_best.score(term_docs_test, label_test)\n",
    "print('The accuracy of 20-class classification is {0:.1f}%'.format(accuracy*100))"
   ]
  },
  {
   "cell_type": "code",
   "execution_count": null,
   "metadata": {},
   "outputs": [],
   "source": []
  }
 ],
 "metadata": {
  "kernelspec": {
   "display_name": "Python 3",
   "language": "python",
   "name": "python3"
  },
  "language_info": {
   "codemirror_mode": {
    "name": "ipython",
    "version": 3
   },
   "file_extension": ".py",
   "mimetype": "text/x-python",
   "name": "python",
   "nbconvert_exporter": "python",
   "pygments_lexer": "ipython3",
   "version": "3.7.3"
  }
 },
 "nbformat": 4,
 "nbformat_minor": 2
}
