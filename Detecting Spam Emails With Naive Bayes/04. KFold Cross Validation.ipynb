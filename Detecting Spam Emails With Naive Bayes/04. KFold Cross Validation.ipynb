{
 "cells": [
  {
   "cell_type": "code",
   "execution_count": 2,
   "metadata": {},
   "outputs": [
    {
     "name": "stdout",
     "output_type": "stream",
     "text": [
      "1500\n",
      "1500\n",
      "5172\n",
      "5172\n"
     ]
    }
   ],
   "source": [
    "import glob\n",
    "import os\n",
    "corpus_path = 'C:/Users/Rik/Documents/corpus/'\n",
    "emails, labels = [], []\n",
    "def readFilesForFolder(folder_path, is_spam):\n",
    "    file_path = corpus_path + 'enron1/' + folder_path\n",
    "    for filename in glob.glob(os.path.join(file_path, '*.txt')):\n",
    "        with open(filename, 'r', encoding=\"ISO-8859-1\") as infile:\n",
    "            emails.append(infile.read())\n",
    "            labels.append(is_spam)\n",
    "readFilesForFolder('spam', 1)\n",
    "print(len(emails))\n",
    "print(len(labels))\n",
    "readFilesForFolder('ham', 0)\n",
    "print(len(emails))\n",
    "print(len(labels))\n",
    "\n",
    "from nltk.corpus import names\n",
    "from nltk.stem import WordNetLemmatizer\n",
    "def is_letter_only(word):\n",
    "    return word.isalpha()\n",
    "all_names = set(names.words())\n",
    "lemmatizer = WordNetLemmatizer()\n",
    "def clean_text(docs):\n",
    "    docs_cleaned = []\n",
    "    for doc in docs:\n",
    "        doc = doc.lower()\n",
    "        doc_cleaned = ' '.join(lemmatizer.lemmatize(word) for word in doc.split() if is_letter_only(word))\n",
    "        docs_cleaned.append(doc_cleaned)\n",
    "    return docs_cleaned\n",
    "cleaned_emails= clean_text(emails)"
   ]
  },
  {
   "cell_type": "markdown",
   "metadata": {},
   "source": [
    "Initialize a 10-fold generator to divide data into chunks with preserved class fractions"
   ]
  },
  {
   "cell_type": "code",
   "execution_count": 3,
   "metadata": {},
   "outputs": [],
   "source": [
    "from sklearn.model_selection import StratifiedKFold\n",
    "import numpy as np\n",
    "\n",
    "k = 10\n",
    "k_fold = StratifiedKFold(n_splits=k, random_state=42)\n",
    "cleaned_emails_np = np.array(cleaned_emails)\n",
    "labels_np = np.array(labels)"
   ]
  },
  {
   "cell_type": "markdown",
   "metadata": {},
   "source": [
    "max_features: n most frequent terms to use as feature space  \n",
    "alpha: smoothing factor  \n",
    "fit_prior: use prior tailored to training data"
   ]
  },
  {
   "cell_type": "code",
   "execution_count": 4,
   "metadata": {},
   "outputs": [],
   "source": [
    "max_features_option = [2000, 8000, None]\n",
    "smoothing_factor_option = [0.5, 1.0, 2.0, 4.0]\n",
    "fit_prior_option = [True, False]"
   ]
  },
  {
   "cell_type": "code",
   "execution_count": 15,
   "metadata": {},
   "outputs": [],
   "source": [
    "from sklearn.feature_extraction.text import CountVectorizer\n",
    "from sklearn.naive_bayes import MultinomialNB\n",
    "from sklearn.metrics import roc_auc_score\n",
    "def run_kfold_multinomial(max_features_option, smoothing_factor_option, fit_prior_option):\n",
    "    auc_record = {}\n",
    "    for train_indices, test_indices in k_fold.split(cleaned_emails, labels):\n",
    "        X_train, X_test = cleaned_emails_np[train_indices], cleaned_emails_np[test_indices]\n",
    "        Y_train, Y_test = labels_np[train_indices], labels_np[test_indices]\n",
    "        for max_features in max_features_option:\n",
    "            if max_features not in auc_record:\n",
    "                auc_record[max_features] = {}\n",
    "            cv = CountVectorizer(stop_words='english', max_features = max_features, max_df = 0.5, min_df=2)\n",
    "            term_docs_train = cv.fit_transform(X_train)\n",
    "            term_docs_test = cv.transform(X_test)\n",
    "            for alpha in smoothing_factor_option:\n",
    "                if alpha not in auc_record[max_features]:\n",
    "                    auc_record[max_features][alpha] = {}\n",
    "                for fit_prior in fit_prior_option:\n",
    "                    clf = MultinomialNB(alpha = alpha, fit_prior = fit_prior)\n",
    "                    clf.fit(term_docs_train, Y_train)\n",
    "                    prediction_prob = clf.predict_proba(term_docs_test)\n",
    "                    pos_prob = prediction_prob[:, 1]\n",
    "                    auc = roc_auc_score(Y_test, pos_prob)\n",
    "                    auc_record[max_features][alpha][fit_prior] = auc + auc_record[max_features][alpha].get(fit_prior, 0.0)\n",
    "    return auc_record\n",
    "auc_record = run_kfold_multinomial(max_features_option, smoothing_factor_option, fit_prior_option)"
   ]
  },
  {
   "cell_type": "code",
   "execution_count": 16,
   "metadata": {},
   "outputs": [
    {
     "name": "stdout",
     "output_type": "stream",
     "text": [
      "max featurs  smoothing fit prior auc\n",
      "   2000     0.5      True     0.97426\n",
      "   2000     0.5      False     0.97421\n",
      "   2000     1.0      True     0.97237\n",
      "   2000     1.0      False     0.97238\n",
      "   2000     2.0      True     0.97043\n",
      "   2000     2.0      False     0.97057\n",
      "   2000     4.0      True     0.96853\n",
      "   2000     4.0      False     0.96843\n",
      "   8000     0.5      True     0.98533\n",
      "   8000     0.5      False     0.98530\n",
      "   8000     1.0      True     0.98428\n",
      "   8000     1.0      False     0.98430\n",
      "   8000     2.0      True     0.98338\n",
      "   8000     2.0      False     0.98337\n",
      "   8000     4.0      True     0.98291\n",
      "   8000     4.0      False     0.98296\n",
      "   None     0.5      True     0.98890\n",
      "   None     0.5      False     0.98884\n",
      "   None     1.0      True     0.98899\n",
      "   None     1.0      False     0.98904\n",
      "   None     2.0      True     0.98906\n",
      "   None     2.0      False     0.98915\n",
      "   None     4.0      True     0.98965\n",
      "   None     4.0      False     0.98969\n"
     ]
    }
   ],
   "source": [
    "def print_results(auc_record):\n",
    "    print('max featurs  smoothing fit prior auc')\n",
    "    for max_features, max_feature_record in auc_record.items():\n",
    "        for smoothing, smoothing_record in max_feature_record.items():\n",
    "            for fit_prior, auc in smoothing_record.items():\n",
    "                print('   {0}     {1}      {2}     {3:.5f}'.format(max_features, smoothing, fit_prior, auc/k))\n",
    "print_results(auc_record)"
   ]
  },
  {
   "cell_type": "code",
   "execution_count": 18,
   "metadata": {},
   "outputs": [
    {
     "name": "stdout",
     "output_type": "stream",
     "text": [
      "max featurs  smoothing fit prior auc\n",
      "   None     4.0      True     0.98965\n",
      "   None     4.0      False     0.98969\n",
      "   None     10      True     0.99208\n",
      "   None     10      False     0.99211\n",
      "   None     16      True     0.99329\n",
      "   None     16      False     0.99329\n",
      "   None     20      True     0.99362\n",
      "   None     20      False     0.99362\n",
      "   None     32      True     0.99307\n",
      "   None     32      False     0.99307\n"
     ]
    }
   ],
   "source": [
    "max_features_option = [None]\n",
    "smoothing_factor_option = [4.0, 10, 16, 20, 32]\n",
    "fit_prior_option = [True, False]\n",
    "print_results(run_kfold_multinomial(max_features_option, smoothing_factor_option, fit_prior_option))"
   ]
  },
  {
   "cell_type": "code",
   "execution_count": null,
   "metadata": {},
   "outputs": [],
   "source": []
  }
 ],
 "metadata": {
  "kernelspec": {
   "display_name": "Python 3",
   "language": "python",
   "name": "python3"
  },
  "language_info": {
   "codemirror_mode": {
    "name": "ipython",
    "version": 3
   },
   "file_extension": ".py",
   "mimetype": "text/x-python",
   "name": "python",
   "nbconvert_exporter": "python",
   "pygments_lexer": "ipython3",
   "version": "3.7.3"
  }
 },
 "nbformat": 4,
 "nbformat_minor": 2
}
